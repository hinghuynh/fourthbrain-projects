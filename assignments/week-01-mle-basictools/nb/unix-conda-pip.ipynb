{
 "cells": [
  {
   "cell_type": "markdown",
   "id": "399f6d9e",
   "metadata": {},
   "source": [
    "# Unix - Conda - Pip"
   ]
  },
  {
   "cell_type": "markdown",
   "id": "ef16b651",
   "metadata": {},
   "source": [
    "We run commands in CLI, e.g., Terminal, but here we are using Jupyter Notebook to demonstrate:\n",
    "\n",
    "1. Output from commands\n",
    "2. That when experiementing or developing programs in the notebook, you can avoid switching tools.\n",
    "3. That you can install pacakges in the beginning of the notebook (e.g., Sagemaker) so it's clear what packages are used."
   ]
  },
  {
   "cell_type": "markdown",
   "id": "944d1a51",
   "metadata": {},
   "source": [
    "## Unix commands"
   ]
  },
  {
   "cell_type": "markdown",
   "id": "f70f6301",
   "metadata": {},
   "source": [
    "### Basics"
   ]
  },
  {
   "cell_type": "markdown",
   "id": "a32b0652",
   "metadata": {},
   "source": [
    "For some of the basic commands, you can run use the cell to run it directly:"
   ]
  },
  {
   "cell_type": "code",
   "execution_count": 3,
   "id": "001e8c71",
   "metadata": {},
   "outputs": [
    {
     "data": {
      "text/plain": [
       "'/Users/hinghuynh/Documents/GitHub/MLE-11/assignments/week-01-mle-basictools/nb'"
      ]
     },
     "execution_count": 3,
     "metadata": {},
     "output_type": "execute_result"
    }
   ],
   "source": [
    "pwd # print working directory"
   ]
  },
  {
   "cell_type": "markdown",
   "id": "00bf36c2",
   "metadata": {},
   "source": [
    "You always want to know \"where you are\" and how to look for help. Use `man` to display the user manual of any command that we can run on the terminal. "
   ]
  },
  {
   "cell_type": "code",
   "execution_count": 4,
   "id": "0e1d0b83",
   "metadata": {},
   "outputs": [
    {
     "name": "stdout",
     "output_type": "stream",
     "text": [
      "Unknown locale, assuming C\n",
      "PWD(1)                      General Commands Manual                     PWD(1)\n",
      "\n",
      "N\bNA\bAM\bME\bE\n",
      "     p\bpw\bwd\bd – return working directory name\n",
      "\n",
      "S\bSY\bYN\bNO\bOP\bPS\bSI\bIS\bS\n",
      "     p\bpw\bwd\bd [-\b-L\bL | -\b-P\bP]\n",
      "\n",
      "D\bDE\bES\bSC\bCR\bRI\bIP\bPT\bTI\bIO\bON\bN\n",
      "     The p\bpw\bwd\bd utility writes the absolute pathname of the current working\n",
      "     directory to the standard output.\n",
      "\n",
      "     Some shells may provide a builtin p\bpw\bwd\bd command which is similar or\n",
      "     identical to this utility.  Consult the builtin(1) manual page.\n",
      "\n",
      "     The options are as follows:\n",
      "\n",
      "     -\b-L\bL      Display the logical current working directory.\n",
      "\n",
      "     -\b-P\bP      Display the physical current working directory (all symbolic\n",
      "             links resolved).\n",
      "\n",
      "     If no options are specified, the -\b-L\bL option is assumed.\n",
      "\n",
      "E\bEN\bNV\bVI\bIR\bRO\bON\bNM\bME\bEN\bNT\bT\n",
      "     Environment variables used by p\bpw\bwd\bd:\n",
      "\n",
      "     PWD      Logical current working directory.\n",
      "\n",
      "E\bEX\bXI\bIT\bT S\bST\bTA\bAT\bTU\bUS\bS\n",
      "     The p\bpw\bwd\bd utility exits 0 on success, and >0 if an error occurs.\n",
      "\n",
      "E\bEX\bXA\bAM\bMP\bPL\bLE\bES\bS\n",
      "     Show current working directory with symbolic links resolved:\n",
      "\n",
      "           $ /bin/pwd -P\n",
      "           /usr/home/fernape\n",
      "\n",
      "     Show the logical current directory.  Then use file(1) to inspect the\n",
      "     _\b/_\bh_\bo_\bm_\be directory:\n",
      "\n",
      "           $ /bin/pwd\n",
      "           /home/fernape\n",
      "           $ file /home\n",
      "           /home: symbolic link to usr/home\n",
      "\n",
      "S\bSE\bEE\bE A\bAL\bLS\bSO\bO\n",
      "     builtin(1), cd(1), csh(1), realpath(1), sh(1), getcwd(3)\n",
      "\n",
      "S\bST\bTA\bAN\bND\bDA\bAR\bRD\bDS\bS\n",
      "     The p\bpw\bwd\bd utility conforms to IEEE Std 1003.1-2001 (“POSIX.1”).\n",
      "\n",
      "H\bHI\bIS\bST\bTO\bOR\bRY\bY\n",
      "     The p\bpw\bwd\bd command appeared in Version 5 AT&T UNIX.\n",
      "\n",
      "B\bBU\bUG\bGS\bS\n",
      "     In csh(1) the command d\bdi\bir\brs\bs is always faster because it is built into that\n",
      "     shell.  However, it can give a different answer in the rare case that the\n",
      "     current directory or a containing directory was moved after the shell\n",
      "     descended into it.\n",
      "\n",
      "     The -\b-L\bL option does not work unless the PWD environment variable is\n",
      "     exported by the shell.\n",
      "\n",
      "macOS 13.0                     October 24, 2020                     macOS 13.0\n"
     ]
    }
   ],
   "source": [
    "man pwd # press ESC to exit"
   ]
  },
  {
   "cell_type": "markdown",
   "id": "5a2b554f",
   "metadata": {},
   "source": [
    "Further, cell magic `%%bash` turns a cell into a bash script where you can run multiple lines (See more cell/line magics [here](https://ipython.readthedocs.io/en/stable/interactive/magics.html)). "
   ]
  },
  {
   "cell_type": "code",
   "execution_count": 5,
   "id": "a0641721",
   "metadata": {},
   "outputs": [
    {
     "name": "stdout",
     "output_type": "stream",
     "text": [
      "/Users/hinghuynh/Documents/GitHub/MLE-11/assignments/week-01-mle-basictools/nb\n",
      "total 80\n",
      "drwxr-xr-x@ 4 hinghuynh  staff   128B Dec  3 15:23 .\n",
      "drwxr-xr-x@ 7 hinghuynh  staff   224B Dec  3 14:02 ..\n",
      "drwxr-xr-x@ 2 hinghuynh  staff    64B Dec  3 15:23 .ipynb_checkpoints\n",
      "-rw-r--r--@ 1 hinghuynh  staff    37K Dec  3 14:02 unix-conda-pip.ipynb\n"
     ]
    }
   ],
   "source": [
    "%%bash\n",
    "pwd\n",
    "ls -lah # WE DO: What are those flags for?"
   ]
  },
  {
   "cell_type": "markdown",
   "id": "4d5a8316",
   "metadata": {},
   "source": [
    "### Download a data file"
   ]
  },
  {
   "cell_type": "markdown",
   "id": "71675d92",
   "metadata": {},
   "source": [
    "Let's download some data from [Census Income Data Set](https://archive.ics.uci.edu/ml/datasets/Census+Income); but first we would like to make a new directory to store the data at the same level as `nb` directory."
   ]
  },
  {
   "cell_type": "code",
   "execution_count": 6,
   "id": "3b75c995",
   "metadata": {},
   "outputs": [],
   "source": [
    "%%bash\n",
    "cd ..\n",
    "mkdir dat\n",
    "# WE DO: make a new diretory called `dat` under the project root directory\n"
   ]
  },
  {
   "cell_type": "markdown",
   "id": "8e4f5671",
   "metadata": {},
   "source": [
    "Let's confirm that we just created an empty directory `dat` using command `tree`. Not all command can be run in the cell directly, adding ! in front of command can do the trick:"
   ]
  },
  {
   "cell_type": "code",
   "execution_count": 9,
   "id": "0a31b61f",
   "metadata": {},
   "outputs": [
    {
     "name": "stdout",
     "output_type": "stream",
     "text": [
      "zsh:1: command not found: tree\n"
     ]
    }
   ],
   "source": [
    "!tree .. -L 2"
   ]
  },
  {
   "cell_type": "code",
   "execution_count": 6,
   "id": "273eed2c",
   "metadata": {},
   "outputs": [
    {
     "name": "stdout",
     "output_type": "stream",
     "text": [
      "--2022-04-25 20:02:57--  https://archive.ics.uci.edu/ml/machine-learning-databases/adult/adult.data\n",
      "Resolving archive.ics.uci.edu (archive.ics.uci.edu)... 128.195.10.252\n",
      "Connecting to archive.ics.uci.edu (archive.ics.uci.edu)|128.195.10.252|:443... connected.\n",
      "HTTP request sent, awaiting response... 200 OK\n",
      "Length: 3974305 (3.8M) [application/x-httpd-php]\n",
      "Saving to: ‘../dat/adult.csv’\n",
      "\n",
      "../dat/adult.csv    100%[===================>]   3.79M  1.80MB/s    in 2.1s    \n",
      "\n",
      "2022-04-25 20:02:59 (1.80 MB/s) - ‘../dat/adult.csv’ saved [3974305/3974305]\n",
      "\n"
     ]
    }
   ],
   "source": [
    "# download a csv file\n",
    "!wget https://archive.ics.uci.edu/ml/machine-learning-databases/adult/adult.data -O ../dat/adult.csv"
   ]
  },
  {
   "cell_type": "code",
   "execution_count": 7,
   "id": "d45bd2fd",
   "metadata": {},
   "outputs": [
    {
     "name": "stdout",
     "output_type": "stream",
     "text": [
      "\u001b[01;34m..\u001b[0m\r\n",
      "├── \u001b[00mLICENSE\u001b[0m\r\n",
      "├── \u001b[00mREADME.md\u001b[0m\r\n",
      "├── \u001b[01;34mdat\u001b[0m\r\n",
      "│   └── \u001b[00madult.csv\u001b[0m\r\n",
      "├── \u001b[01;34mmd\u001b[0m\r\n",
      "│   └── \u001b[00mgit-more.md\u001b[0m\r\n",
      "└── \u001b[01;34mnb\u001b[0m\r\n",
      "    └── \u001b[00munix-conda-pip.ipynb\u001b[0m\r\n",
      "\r\n",
      "3 directories, 5 files\r\n"
     ]
    }
   ],
   "source": [
    "!tree .. -L 2 # check again"
   ]
  },
  {
   "cell_type": "markdown",
   "id": "d1c3ad4c",
   "metadata": {},
   "source": [
    "### Inspect data"
   ]
  },
  {
   "cell_type": "markdown",
   "id": "a17d9ad5",
   "metadata": {},
   "source": [
    "Let's inspect first 10 lines of data:"
   ]
  },
  {
   "cell_type": "code",
   "execution_count": 10,
   "id": "4b397608",
   "metadata": {},
   "outputs": [
    {
     "name": "stdout",
     "output_type": "stream",
     "text": [
      "39, State-gov, 77516, Bachelors, 13, Never-married, Adm-clerical, Not-in-family, White, Male, 2174, 0, 40, United-States, <=50K\n",
      "50, Self-emp-not-inc, 83311, Bachelors, 13, Married-civ-spouse, Exec-managerial, Husband, White, Male, 0, 0, 13, United-States, <=50K\n",
      "38, Private, 215646, HS-grad, 9, Divorced, Handlers-cleaners, Not-in-family, White, Male, 0, 0, 40, United-States, <=50K\n",
      "53, Private, 234721, 11th, 7, Married-civ-spouse, Handlers-cleaners, Husband, Black, Male, 0, 0, 40, United-States, <=50K\n",
      "28, Private, 338409, Bachelors, 13, Married-civ-spouse, Prof-specialty, Wife, Black, Female, 0, 0, 40, Cuba, <=50K\n",
      "37, Private, 284582, Masters, 14, Married-civ-spouse, Exec-managerial, Wife, White, Female, 0, 0, 40, United-States, <=50K\n",
      "49, Private, 160187, 9th, 5, Married-spouse-absent, Other-service, Not-in-family, Black, Female, 0, 0, 16, Jamaica, <=50K\n",
      "52, Self-emp-not-inc, 209642, HS-grad, 9, Married-civ-spouse, Exec-managerial, Husband, White, Male, 0, 0, 45, United-States, >50K\n",
      "31, Private, 45781, Masters, 14, Never-married, Prof-specialty, Not-in-family, White, Female, 14084, 0, 50, United-States, >50K\n",
      "42, Private, 159449, Bachelors, 13, Married-civ-spouse, Exec-managerial, Husband, White, Male, 5178, 0, 40, United-States, >50K\n"
     ]
    }
   ],
   "source": [
    "!head ../dat/adult.csv"
   ]
  },
  {
   "cell_type": "markdown",
   "id": "17f5a9f0",
   "metadata": {},
   "source": [
    "How about the last 3 lines? ( wait, I only see 2 lines. what's wrong? ) "
   ]
  },
  {
   "cell_type": "code",
   "execution_count": 11,
   "id": "c59382eb",
   "metadata": {},
   "outputs": [
    {
     "name": "stdout",
     "output_type": "stream",
     "text": [
      "22, Private, 201490, HS-grad, 9, Never-married, Adm-clerical, Own-child, White, Male, 0, 0, 20, United-States, <=50K\n",
      "52, Self-emp-inc, 287927, HS-grad, 9, Married-civ-spouse, Exec-managerial, Wife, White, Female, 15024, 0, 40, United-States, >50K\n",
      "\n"
     ]
    }
   ],
   "source": [
    "!tail -n 3 ../dat/adult.csv"
   ]
  },
  {
   "cell_type": "markdown",
   "id": "93d8f299",
   "metadata": {},
   "source": [
    "How many records are there?"
   ]
  },
  {
   "cell_type": "code",
   "execution_count": 12,
   "id": "ff9852aa",
   "metadata": {},
   "outputs": [
    {
     "name": "stdout",
     "output_type": "stream",
     "text": [
      "   32562 ../dat/adult.csv\n"
     ]
    }
   ],
   "source": [
    "!wc -l ../dat/adult.csv"
   ]
  },
  {
   "cell_type": "markdown",
   "id": "422009f8",
   "metadata": {},
   "source": [
    "Challenge: how many columns are there?"
   ]
  },
  {
   "cell_type": "code",
   "execution_count": 13,
   "id": "195b5b57",
   "metadata": {},
   "outputs": [
    {
     "name": "stdout",
     "output_type": "stream",
     "text": [
      "      15\n"
     ]
    }
   ],
   "source": [
    "!head -1 ../dat/adult.csv | sed 's/[^,]//g' | wc -c"
   ]
  },
  {
   "cell_type": "markdown",
   "id": "e52d18e0",
   "metadata": {},
   "source": [
    "## Conda: environment manager + package manager"
   ]
  },
  {
   "cell_type": "markdown",
   "id": "8fec4699",
   "metadata": {},
   "source": [
    "You might have heard about Anaconda / Miniconda / Miniforge:"
   ]
  },
  {
   "cell_type": "markdown",
   "id": "70b40550",
   "metadata": {},
   "source": [
    "- What is the difference between `conda` and `miniconda`? [An answer](https://stackoverflow.com/questions/45421163/anaconda-vs-miniconda).\n",
    "- What is the difference between `miniconda` and `miniforge`? [An answer](https://stackoverflow.com/questions/60532678/what-is-the-difference-between-miniconda-and-miniforge).\n",
    "\n",
    "Though Conda is considered both a package manager and an environment manager, we  focus on using it as the environment manager, and use `pip` as the package manager."
   ]
  },
  {
   "cell_type": "markdown",
   "id": "fa2f0973",
   "metadata": {},
   "source": [
    "### Installation"
   ]
  },
  {
   "cell_type": "markdown",
   "id": "aef39f0a",
   "metadata": {},
   "source": [
    "First, install `miniconda` (Feel free to skip if you have already installed it, or any flavor of conda).\n",
    "\n",
    "Run the following commands in terminal to download the lastest Miniconda distribution and install it (Mac Intel Book). \n",
    "\n",
    "    ```\n",
    "    cd ~\n",
    "    wget https://repo.anaconda.com/miniconda/Miniconda3-latest-MacOSX-x86_64.sh\n",
    "    bash Miniconda3-latest-MacOSX-x86_64.sh\n",
    "    ```\n",
    "\n",
    "For M1 chip, install `miniforge` instead. If you are new to `brew`, following instructions [here](https://brew.sh) to install Homebrew first:\n",
    "\n",
    "    ```\n",
    "    brew install miniforge\n",
    "    ```\n",
    "\n",
    "Outputs from these installations are rather long, so we ask you to run it in a terminal window instead."
   ]
  },
  {
   "cell_type": "code",
   "execution_count": 16,
   "id": "8d90ea31",
   "metadata": {},
   "outputs": [
    {
     "name": "stdout",
     "output_type": "stream",
     "text": [
      "\u001b[34m==>\u001b[0m \u001b[1mAuto-updated Homebrew!\u001b[0m\n",
      "Updated 1 tap (homebrew/core).\n",
      "\u001b[34m==>\u001b[0m \u001b[1mNew Formulae\u001b[0m\n",
      "d2                         kubevious                  temporal\n",
      "\n",
      "You have \u001b[1m3\u001b[0m outdated formulae installed.\n",
      "You can upgrade them with \u001b[1mbrew upgrade\u001b[0m\n",
      "or list them with \u001b[1mbrew outdated\u001b[0m.\n",
      "\n",
      "\u001b[34m==>\u001b[0m \u001b[1mTapping homebrew/cask\u001b[0m\n",
      "Cloning into '/opt/homebrew/Library/Taps/homebrew/homebrew-cask'...\n",
      "remote: Enumerating objects: 692094, done.\u001b[K\n",
      "remote: Counting objects: 100% (162/162), done.\u001b[K\n",
      "remote: Compressing objects: 100% (104/104), done.\u001b[K\n",
      "remote: Total 692094 (delta 98), reused 120 (delta 58), pack-reused 691932\u001b[K\n",
      "Receiving objects: 100% (692094/692094), 327.90 MiB | 24.48 MiB/s, done.\n",
      "Resolving deltas: 100% (491737/491737), done.\n",
      "Tapped 4125 casks (4,197 files, 349.9MB).\n",
      "\u001b[34m==>\u001b[0m \u001b[1mCaveats\u001b[0m\n",
      "Please run the following to setup your shell:\n",
      "  conda init \"$(basename \"${SHELL}\")\"\n",
      "\n",
      "\u001b[34m==>\u001b[0m \u001b[1mDownloading https://github.com/conda-forge/miniforge/releases/download/22.9.\u001b[0m\n",
      "\u001b[34m==>\u001b[0m \u001b[1mDownloading from https://objects.githubusercontent.com/github-production-rel\u001b[0m\n",
      "######################################################################## 100.0%\n",
      "\u001b[32m==>\u001b[0m \u001b[1mInstalling Cask \u001b[32mminiforge\u001b[39m\u001b[0m\n",
      "\u001b[34m==>\u001b[0m \u001b[1mRunning installer script 'Miniforge3-22.9.0-2-MacOSX-arm64.sh'\u001b[0m\n",
      "PREFIX=/opt/homebrew/Caskroom/miniforge/base\n",
      "Unpacking payload ...\n",
      "Extracting python-3.10.6-hae75cb6_0_cpython.tar.bz2\n",
      "Extracting bzip2-1.0.8-h3422bc3_4.tar.bz2\n",
      "Extracting ca-certificates-2022.9.24-h4653dfc_0.tar.bz2\n",
      "Extracting libffi-3.4.2-h3422bc3_5.tar.bz2\n",
      "Extracting libzlib-1.2.13-h03a7124_4.tar.bz2\n",
      "Extracting ncurses-6.3-h07bb92c_1.tar.bz2\n",
      "Extracting tzdata-2022f-h191b570_0.tar.bz2\n",
      "Extracting xz-5.2.6-h57fd34a_0.tar.bz2\n",
      "Extracting yaml-0.2.5-h3422bc3_2.tar.bz2\n",
      "Extracting libsqlite-3.40.0-h76d750c_0.tar.bz2\n",
      "Extracting openssl-3.0.7-h03a7124_0.tar.bz2\n",
      "Extracting readline-8.1.2-h46ed386_0.tar.bz2\n",
      "Extracting tk-8.6.12-he1e0b03_0.tar.bz2\n",
      "Extracting certifi-2022.9.24-pyhd8ed1ab_0.tar.bz2\n",
      "Extracting charset-normalizer-2.1.1-pyhd8ed1ab_0.tar.bz2\n",
      "Extracting colorama-0.4.6-pyhd8ed1ab_0.tar.bz2\n",
      "Extracting idna-3.4-pyhd8ed1ab_0.tar.bz2\n",
      "Extracting pycparser-2.21-pyhd8ed1ab_0.tar.bz2\n",
      "Extracting pysocks-1.7.1-pyha2e5f31_6.tar.bz2\n",
      "Extracting python_abi-3.10-2_cp310.tar.bz2\n",
      "Extracting setuptools-65.5.1-pyhd8ed1ab_0.tar.bz2\n",
      "Extracting toolz-0.12.0-pyhd8ed1ab_0.tar.bz2\n",
      "Extracting wheel-0.38.4-pyhd8ed1ab_0.tar.bz2\n",
      "Extracting cffi-1.15.1-py310h2399d43_2.tar.bz2\n",
      "Extracting pip-22.3.1-pyhd8ed1ab_0.tar.bz2\n",
      "Extracting pycosat-0.6.4-py310h8e9501a_1.tar.bz2\n",
      "Extracting ruamel_yaml-0.15.80-py310h8e9501a_1008.tar.bz2\n",
      "Extracting tqdm-4.64.1-pyhd8ed1ab_0.tar.bz2\n",
      "Extracting brotlipy-0.7.0-py310h8e9501a_1005.tar.bz2\n",
      "Extracting conda-package-handling-1.9.0-py310h8e9501a_1.tar.bz2\n",
      "Extracting cryptography-38.0.3-py310hfc83b78_0.tar.bz2\n",
      "Extracting pyopenssl-22.1.0-pyhd8ed1ab_0.tar.bz2\n",
      "Extracting urllib3-1.26.11-pyhd8ed1ab_0.tar.bz2\n",
      "Extracting requests-2.28.1-pyhd8ed1ab_1.tar.bz2\n",
      "Extracting conda-22.9.0-py310hbe9552e_2.tar.bz2\n",
      "\n",
      "                                           __\n",
      "          __  ______ ___  ____ _____ ___  / /_  ____ _\n",
      "         / / / / __ `__ \\/ __ `/ __ `__ \\/ __ \\/ __ `/\n",
      "        / /_/ / / / / / / /_/ / / / / / / /_/ / /_/ /\n",
      "       / .___/_/ /_/ /_/\\__,_/_/ /_/ /_/_.___/\\__,_/\n",
      "      /_/\n",
      "\n",
      "conda-forge/osx-arm64                                       Using cache\n",
      "conda-forge/noarch                                          Using cache\n",
      "\n",
      "Transaction\n",
      "\n",
      "  Prefix: /opt/homebrew/Caskroom/miniforge/base\n",
      "\n",
      "  Updating specs:\n",
      "\n",
      "   - python==3.10.6=hae75cb6_0_cpython\n",
      "   - bzip2==1.0.8=h3422bc3_4\n",
      "   - ca-certificates==2022.9.24=h4653dfc_0\n",
      "   - libffi==3.4.2=h3422bc3_5\n",
      "   - libzlib==1.2.13=h03a7124_4\n",
      "   - ncurses==6.3=h07bb92c_1\n",
      "   - tzdata==2022f=h191b570_0\n",
      "   - xz==5.2.6=h57fd34a_0\n",
      "   - yaml==0.2.5=h3422bc3_2\n",
      "   - libsqlite==3.40.0=h76d750c_0\n",
      "   - openssl==3.0.7=h03a7124_0\n",
      "   - readline==8.1.2=h46ed386_0\n",
      "   - tk==8.6.12=he1e0b03_0\n",
      "   - certifi==2022.9.24=pyhd8ed1ab_0\n",
      "   - charset-normalizer==2.1.1=pyhd8ed1ab_0\n",
      "   - colorama==0.4.6=pyhd8ed1ab_0\n",
      "   - idna==3.4=pyhd8ed1ab_0\n",
      "   - pycparser==2.21=pyhd8ed1ab_0\n",
      "   - pysocks==1.7.1=pyha2e5f31_6\n",
      "   - python_abi==3.10=2_cp310\n",
      "   - setuptools==65.5.1=pyhd8ed1ab_0\n",
      "   - toolz==0.12.0=pyhd8ed1ab_0\n",
      "   - wheel==0.38.4=pyhd8ed1ab_0\n",
      "   - cffi==1.15.1=py310h2399d43_2\n",
      "   - pip==22.3.1=pyhd8ed1ab_0\n",
      "   - pycosat==0.6.4=py310h8e9501a_1\n",
      "   - ruamel_yaml==0.15.80=py310h8e9501a_1008\n",
      "   - tqdm==4.64.1=pyhd8ed1ab_0\n",
      "   - brotlipy==0.7.0=py310h8e9501a_1005\n",
      "   - conda-package-handling==1.9.0=py310h8e9501a_1\n",
      "   - cryptography==38.0.3=py310hfc83b78_0\n",
      "   - pyopenssl==22.1.0=pyhd8ed1ab_0\n",
      "   - urllib3==1.26.11=pyhd8ed1ab_0\n",
      "   - requests==2.28.1=pyhd8ed1ab_1\n",
      "   - conda==22.9.0=py310hbe9552e_2\n",
      "\n",
      "\n",
      "  Package                     Version  Build               Channel                     Size\n",
      "─────────────────────────────────────────────────────────────────────────────────────────────\n",
      "  Install:\n",
      "─────────────────────────────────────────────────────────────────────────────────────────────\n",
      "\n",
      "  + brotlipy                    0.7.0  py310h8e9501a_1005  conda-forge/osx-arm64     Cached\n",
      "  + bzip2                       1.0.8  h3422bc3_4          conda-forge/osx-arm64     Cached\n",
      "  + ca-certificates         2022.9.24  h4653dfc_0          conda-forge/osx-arm64     Cached\n",
      "  + certifi                 2022.9.24  pyhd8ed1ab_0        conda-forge/noarch        Cached\n",
      "  + cffi                       1.15.1  py310h2399d43_2     conda-forge/osx-arm64     Cached\n",
      "  + charset-normalizer          2.1.1  pyhd8ed1ab_0        conda-forge/noarch        Cached\n",
      "  + colorama                    0.4.6  pyhd8ed1ab_0        conda-forge/noarch        Cached\n",
      "  + conda                      22.9.0  py310hbe9552e_2     conda-forge/osx-arm64     Cached\n",
      "  + conda-package-handling      1.9.0  py310h8e9501a_1     conda-forge/osx-arm64     Cached\n",
      "  + cryptography               38.0.3  py310hfc83b78_0     conda-forge/osx-arm64     Cached\n",
      "  + idna                          3.4  pyhd8ed1ab_0        conda-forge/noarch        Cached\n",
      "  + libffi                      3.4.2  h3422bc3_5          conda-forge/osx-arm64     Cached\n",
      "  + libsqlite                  3.40.0  h76d750c_0          conda-forge/osx-arm64     Cached\n",
      "  + libzlib                    1.2.13  h03a7124_4          conda-forge/osx-arm64     Cached\n",
      "  + ncurses                       6.3  h07bb92c_1          conda-forge/osx-arm64     Cached\n",
      "  + openssl                     3.0.7  h03a7124_0          conda-forge/osx-arm64     Cached\n",
      "  + pip                        22.3.1  pyhd8ed1ab_0        conda-forge/noarch        Cached\n",
      "  + pycosat                     0.6.4  py310h8e9501a_1     conda-forge/osx-arm64     Cached\n",
      "  + pycparser                    2.21  pyhd8ed1ab_0        conda-forge/noarch        Cached\n",
      "  + pyopenssl                  22.1.0  pyhd8ed1ab_0        conda-forge/noarch        Cached\n",
      "  + pysocks                     1.7.1  pyha2e5f31_6        conda-forge/noarch        Cached\n",
      "  + python                     3.10.6  hae75cb6_0_cpython  conda-forge/osx-arm64     Cached\n",
      "  + python_abi                   3.10  2_cp310             conda-forge/osx-arm64     Cached\n",
      "  + readline                    8.1.2  h46ed386_0          conda-forge/osx-arm64     Cached\n",
      "  + requests                   2.28.1  pyhd8ed1ab_1        conda-forge/noarch        Cached\n",
      "  + ruamel_yaml               0.15.80  py310h8e9501a_1008  conda-forge/osx-arm64     Cached\n",
      "  + setuptools                 65.5.1  pyhd8ed1ab_0        conda-forge/noarch        Cached\n",
      "  + tk                         8.6.12  he1e0b03_0          conda-forge/osx-arm64     Cached\n",
      "  + toolz                      0.12.0  pyhd8ed1ab_0        conda-forge/noarch        Cached\n",
      "  + tqdm                       4.64.1  pyhd8ed1ab_0        conda-forge/noarch        Cached\n",
      "  + tzdata                      2022f  h191b570_0          conda-forge/noarch        Cached\n",
      "  + urllib3                   1.26.11  pyhd8ed1ab_0        conda-forge/noarch        Cached\n",
      "  + wheel                      0.38.4  pyhd8ed1ab_0        conda-forge/noarch        Cached\n",
      "  + xz                          5.2.6  h57fd34a_0          conda-forge/osx-arm64     Cached\n",
      "  + yaml                        0.2.5  h3422bc3_2          conda-forge/osx-arm64     Cached\n",
      "\n",
      "  Summary:\n",
      "\n",
      "  Install: 35 packages\n",
      "\n",
      "  Total download: 0 B\n",
      "\n",
      "─────────────────────────────────────────────────────────────────────────────────────────────\n",
      "\n",
      "\n",
      "Transaction starting\n",
      "Linking bzip2-1.0.8-h3422bc3_4\n",
      "Linking ca-certificates-2022.9.24-h4653dfc_0\n",
      "Linking libffi-3.4.2-h3422bc3_5\n",
      "Linking libzlib-1.2.13-h03a7124_4\n",
      "Linking ncurses-6.3-h07bb92c_1\n",
      "Linking xz-5.2.6-h57fd34a_0\n",
      "Linking yaml-0.2.5-h3422bc3_2\n",
      "Linking openssl-3.0.7-h03a7124_0\n",
      "Linking tk-8.6.12-he1e0b03_0\n",
      "Linking libsqlite-3.40.0-h76d750c_0\n",
      "Linking readline-8.1.2-h46ed386_0\n",
      "Linking tzdata-2022f-h191b570_0\n",
      "Linking python-3.10.6-hae75cb6_0_cpython\n",
      "Linking wheel-0.38.4-pyhd8ed1ab_0\n",
      "Linking setuptools-65.5.1-pyhd8ed1ab_0\n",
      "Linking pip-22.3.1-pyhd8ed1ab_0\n",
      "Linking toolz-0.12.0-pyhd8ed1ab_0\n",
      "Linking pysocks-1.7.1-pyha2e5f31_6\n",
      "Linking pycparser-2.21-pyhd8ed1ab_0\n",
      "Linking idna-3.4-pyhd8ed1ab_0\n",
      "Linking colorama-0.4.6-pyhd8ed1ab_0\n",
      "Linking charset-normalizer-2.1.1-pyhd8ed1ab_0\n",
      "Linking certifi-2022.9.24-pyhd8ed1ab_0\n",
      "Linking tqdm-4.64.1-pyhd8ed1ab_0\n",
      "Linking python_abi-3.10-2_cp310\n",
      "Linking conda-package-handling-1.9.0-py310h8e9501a_1\n",
      "Linking ruamel_yaml-0.15.80-py310h8e9501a_1008\n",
      "Linking pycosat-0.6.4-py310h8e9501a_1\n",
      "Linking cffi-1.15.1-py310h2399d43_2\n",
      "Linking cryptography-38.0.3-py310hfc83b78_0\n",
      "Linking brotlipy-0.7.0-py310h8e9501a_1005\n",
      "Linking pyopenssl-22.1.0-pyhd8ed1ab_0\n",
      "Linking urllib3-1.26.11-pyhd8ed1ab_0\n",
      "Linking requests-2.28.1-pyhd8ed1ab_1\n",
      "Linking conda-22.9.0-py310hbe9552e_2\n",
      "Transaction finished\n",
      "installation finished.\n",
      "\u001b[34m==>\u001b[0m \u001b[1mLinking Binary 'conda' to '/opt/homebrew/bin/conda'\u001b[0m\n",
      "🍺  miniforge was successfully installed!\n"
     ]
    }
   ],
   "source": [
    "!brew install miniforge"
   ]
  },
  {
   "cell_type": "markdown",
   "id": "4ac65956",
   "metadata": {},
   "source": [
    "Confirm that the installation is successful:"
   ]
  },
  {
   "cell_type": "code",
   "execution_count": 17,
   "id": "f8a10e9d",
   "metadata": {},
   "outputs": [
    {
     "name": "stdout",
     "output_type": "stream",
     "text": [
      "/Users/hinghuynh/anaconda3/bin/conda\n",
      "conda 4.13.0\n",
      "/Users/hinghuynh/anaconda3/bin/python\n",
      "Python 3.9.12\n"
     ]
    }
   ],
   "source": [
    "%%bash\n",
    "which conda  # where the executable conda is in my path?\n",
    "conda -V     # which version of conda?\n",
    "which python # where the executable python is in my path?\n",
    "python -V    # what version of python?"
   ]
  },
  {
   "cell_type": "markdown",
   "id": "a6331b4b",
   "metadata": {},
   "source": [
    "### Create a new env"
   ]
  },
  {
   "cell_type": "markdown",
   "id": "b25f1463",
   "metadata": {},
   "source": [
    "Create a new conda environment named `py39_12` where you specify a python version to be 3.9.12. Note the last flag `--yes` to skip the confirmation prompt."
   ]
  },
  {
   "cell_type": "code",
   "execution_count": 18,
   "id": "212568f0",
   "metadata": {},
   "outputs": [
    {
     "name": "stdout",
     "output_type": "stream",
     "text": [
      "Collecting package metadata (current_repodata.json): done\n",
      "Solving environment: failed with repodata from current_repodata.json, will retry with next repodata source.\n",
      "Collecting package metadata (repodata.json): done\n",
      "Solving environment: done\n",
      "\n",
      "\n",
      "==> WARNING: A newer version of conda exists. <==\n",
      "  current version: 4.13.0\n",
      "  latest version: 22.11.0\n",
      "\n",
      "Please update conda by running\n",
      "\n",
      "    $ conda update -n base -c defaults conda\n",
      "\n",
      "\n",
      "\n",
      "## Package Plan ##\n",
      "\n",
      "  environment location: /Users/hinghuynh/anaconda3/envs/py39_12\n",
      "\n",
      "  added / updated specs:\n",
      "    - python=3.9.12\n",
      "\n",
      "\n",
      "The following packages will be downloaded:\n",
      "\n",
      "    package                    |            build\n",
      "    ---------------------------|-----------------\n",
      "    certifi-2022.9.24          |   py39hca03da5_0         155 KB\n",
      "    pip-22.2.2                 |   py39hca03da5_0         2.3 MB\n",
      "    setuptools-65.5.0          |   py39hca03da5_0         1.1 MB\n",
      "    tzdata-2022f               |       h04d1e81_0         115 KB\n",
      "    ------------------------------------------------------------\n",
      "                                           Total:         3.7 MB\n",
      "\n",
      "The following NEW packages will be INSTALLED:\n",
      "\n",
      "  ca-certificates    pkgs/main/osx-arm64::ca-certificates-2022.10.11-hca03da5_0\n",
      "  certifi            pkgs/main/osx-arm64::certifi-2022.9.24-py39hca03da5_0\n",
      "  libcxx             pkgs/main/osx-arm64::libcxx-14.0.6-h848a8c0_0\n",
      "  libffi             pkgs/main/osx-arm64::libffi-3.4.2-hca03da5_6\n",
      "  ncurses            pkgs/main/osx-arm64::ncurses-6.3-h1a28f6b_3\n",
      "  openssl            pkgs/main/osx-arm64::openssl-1.1.1s-h1a28f6b_0\n",
      "  pip                pkgs/main/osx-arm64::pip-22.2.2-py39hca03da5_0\n",
      "  python             pkgs/main/osx-arm64::python-3.9.12-hbdb9e5c_1\n",
      "  readline           pkgs/main/osx-arm64::readline-8.2-h1a28f6b_0\n",
      "  setuptools         pkgs/main/osx-arm64::setuptools-65.5.0-py39hca03da5_0\n",
      "  sqlite             pkgs/main/osx-arm64::sqlite-3.40.0-h7a7dc30_0\n",
      "  tk                 pkgs/main/osx-arm64::tk-8.6.12-hb8d0fd4_0\n",
      "  tzdata             pkgs/main/noarch::tzdata-2022f-h04d1e81_0\n",
      "  wheel              pkgs/main/noarch::wheel-0.37.1-pyhd3eb1b0_0\n",
      "  xz                 pkgs/main/osx-arm64::xz-5.2.8-h80987f9_0\n",
      "  zlib               pkgs/main/osx-arm64::zlib-1.2.13-h5a0b063_0\n",
      "\n",
      "\n",
      "\n",
      "Downloading and Extracting Packages\n",
      "tzdata-2022f         | 115 KB    | ##################################### | 100% \n",
      "setuptools-65.5.0    | 1.1 MB    | ##################################### | 100% \n",
      "certifi-2022.9.24    | 155 KB    | ##################################### | 100% \n",
      "pip-22.2.2           | 2.3 MB    | ##################################### | 100% \n",
      "Preparing transaction: done\n",
      "Verifying transaction: done\n",
      "Executing transaction: done\n",
      "#\n",
      "# To activate this environment, use\n",
      "#\n",
      "#     $ conda activate py39_12\n",
      "#\n",
      "# To deactivate an active environment, use\n",
      "#\n",
      "#     $ conda deactivate\n",
      "\n"
     ]
    }
   ],
   "source": [
    "!conda create --name py39_12 python=3.9.12 --yes"
   ]
  },
  {
   "cell_type": "code",
   "execution_count": 21,
   "id": "d0bd2f20",
   "metadata": {},
   "outputs": [
    {
     "name": "stdout",
     "output_type": "stream",
     "text": [
      "# conda environments:\n",
      "#\n",
      "base                  *  /Users/hinghuynh/anaconda3\n",
      "py39_12                  /Users/hinghuynh/anaconda3/envs/py39_12\n",
      "\n"
     ]
    }
   ],
   "source": [
    "# YOU CODE HERE \n",
    "# list all environments in conda\n",
    "!conda info --envs"
   ]
  },
  {
   "cell_type": "markdown",
   "id": "a1efee8c",
   "metadata": {},
   "source": [
    "You shall see something like this:\n",
    "```\n",
    "# conda environments:\n",
    "#\n",
    "                         /Users/flora/miniforge3\n",
    "                         /Users/flora/miniforge3/envs/tf38\n",
    "base                  *  /usr/local/Caskroom/miniforge/base\n",
    "py39                     /usr/local/Caskroom/miniforge/base/envs/py39\n",
    "py39_12                  /usr/local/Caskroom/miniforge/base/envs/py39_12\n",
    "```"
   ]
  },
  {
   "cell_type": "markdown",
   "id": "a669545e",
   "metadata": {},
   "source": [
    "### Activate an env"
   ]
  },
  {
   "cell_type": "markdown",
   "id": "46aefe99",
   "metadata": {},
   "source": [
    "By default, you are under the `base` environment, to activate the new environement, run `conda activate py39_12` in terminal.\n",
    "\n",
    "If you are using VS code, click on the top right button to switch python kernel. You will be prompted to install `ipykernel`, follow the instructions to install the package. Or you can run `source activate`, followed by \n",
    "`conda activate /usr/local/Caskroom/miniforge/base/envs/py39_12` in a cell. \n",
    "\n",
    "If you are using jupyter notebook on a localhost (by defaut 8888), you can restart the jupyter notebook after activating the new environment.\n",
    "\n",
    "Now verify the python version:"
   ]
  },
  {
   "cell_type": "code",
   "execution_count": 22,
   "id": "265f7506",
   "metadata": {},
   "outputs": [
    {
     "name": "stdout",
     "output_type": "stream",
     "text": [
      "Python 3.9.12\n",
      "/Users/hinghuynh/anaconda3/bin/python\n",
      "# conda environments:\n",
      "#\n",
      "base                  *  /Users/hinghuynh/anaconda3\n",
      "py39_12                  /Users/hinghuynh/anaconda3/envs/py39_12\n",
      "\n"
     ]
    }
   ],
   "source": [
    "%%bash\n",
    "\n",
    "python --version\n",
    "which python\n",
    "conda env list"
   ]
  },
  {
   "cell_type": "markdown",
   "id": "08985441",
   "metadata": {},
   "source": [
    "<details>\n",
    "<summary>Click to see how to add the Conda env to you jupyter notebook kernels</summary>\n",
    "\n",
    "```\n",
    "pip install ipykernel\n",
    "python -m ipykernel install --user --name=py39_12\n",
    "```\n",
    "\n",
    "Next time you launch jupyter notebook, you will see `py39_12` as an option under Kernel/Change kernel.\n",
    "</details>\n",
    "\n",
    "\n"
   ]
  },
  {
   "cell_type": "markdown",
   "id": "bfc622f5",
   "metadata": {},
   "source": [
    "### Delete an env"
   ]
  },
  {
   "cell_type": "markdown",
   "id": "99ecb107",
   "metadata": {},
   "source": [
    "To keep a lean list of environments, we want to prune unused environements from time to time. Simply do the following\n",
    "```\n",
    "conda remove --name old_env --all --yes\n",
    "```"
   ]
  },
  {
   "cell_type": "markdown",
   "id": "8f3e11d0",
   "metadata": {},
   "source": [
    "## Pip: python package manager"
   ]
  },
  {
   "cell_type": "markdown",
   "id": "6e2dc9e0",
   "metadata": {},
   "source": [
    "We recommend to use pip as your python package installer/manager [(fun read on pip vs conda.)](https://stackoverflow.com/questions/20994716/what-is-the-difference-between-pip-and-conda) Note you don't have install pip explictly since it was done during the installation of miniconda/miniforge. "
   ]
  },
  {
   "cell_type": "code",
   "execution_count": 23,
   "id": "ac8585e9",
   "metadata": {},
   "outputs": [
    {
     "name": "stdout",
     "output_type": "stream",
     "text": [
      "/Users/hinghuynh/anaconda3/bin/pip\n"
     ]
    }
   ],
   "source": [
    "!which pip"
   ]
  },
  {
   "cell_type": "markdown",
   "id": "df4b9751",
   "metadata": {},
   "source": [
    "### Install package"
   ]
  },
  {
   "cell_type": "markdown",
   "id": "8913690d",
   "metadata": {},
   "source": [
    "We can certainly run `pip` commands the same way as earlier. Just for fun, let's try Jupyter line magic `%pip`. \n",
    "\n",
    "First make sure that we would like to have the most recent version of `pip` installed."
   ]
  },
  {
   "cell_type": "code",
   "execution_count": 24,
   "id": "f10cab48",
   "metadata": {},
   "outputs": [
    {
     "name": "stdout",
     "output_type": "stream",
     "text": [
      "Requirement already satisfied: pip in /Users/hinghuynh/anaconda3/lib/python3.9/site-packages (21.2.4)\n",
      "Collecting pip\n",
      "  Downloading pip-22.3.1-py3-none-any.whl (2.1 MB)\n",
      "\u001b[K     |████████████████████████████████| 2.1 MB 3.1 MB/s eta 0:00:01\n",
      "\u001b[?25hInstalling collected packages: pip\n",
      "  Attempting uninstall: pip\n",
      "    Found existing installation: pip 21.2.4\n",
      "    Uninstalling pip-21.2.4:\n",
      "      Successfully uninstalled pip-21.2.4\n",
      "Successfully installed pip-22.3.1\n",
      "Note: you may need to restart the kernel to use updated packages.\n"
     ]
    }
   ],
   "source": [
    "%pip install --upgrade pip"
   ]
  },
  {
   "cell_type": "code",
   "execution_count": 25,
   "id": "6f5a19b8",
   "metadata": {},
   "outputs": [
    {
     "name": "stdout",
     "output_type": "stream",
     "text": [
      "Requirement already satisfied: numpy in /Users/hinghuynh/anaconda3/lib/python3.9/site-packages (1.21.5)\n",
      "Requirement already satisfied: pandas in /Users/hinghuynh/anaconda3/lib/python3.9/site-packages (1.4.2)\n",
      "Requirement already satisfied: python-dateutil>=2.8.1 in /Users/hinghuynh/anaconda3/lib/python3.9/site-packages (from pandas) (2.8.2)\n",
      "Requirement already satisfied: pytz>=2020.1 in /Users/hinghuynh/anaconda3/lib/python3.9/site-packages (from pandas) (2021.3)\n",
      "Requirement already satisfied: six>=1.5 in /Users/hinghuynh/anaconda3/lib/python3.9/site-packages (from python-dateutil>=2.8.1->pandas) (1.16.0)\n",
      "Note: you may need to restart the kernel to use updated packages.\n"
     ]
    }
   ],
   "source": [
    "%pip install numpy pandas"
   ]
  },
  {
   "cell_type": "markdown",
   "id": "b23b1338",
   "metadata": {},
   "source": [
    "Now you can use these packages:"
   ]
  },
  {
   "cell_type": "code",
   "execution_count": 5,
   "id": "5e863b17",
   "metadata": {},
   "outputs": [],
   "source": [
    "# allow multiple outputs in a single cell\n",
    "from IPython.core.interactiveshell import InteractiveShell\n",
    "InteractiveShell.ast_node_interactivity = \"all\""
   ]
  },
  {
   "cell_type": "code",
   "execution_count": 26,
   "id": "88f533d8",
   "metadata": {},
   "outputs": [
    {
     "data": {
      "text/plain": [
       "array([[0.92658148, 0.53910811],\n",
       "       [0.17396366, 0.45595748],\n",
       "       [0.63887226, 0.12870413],\n",
       "       [0.48843639, 0.70129133],\n",
       "       [0.21694404, 0.444117  ]])"
      ]
     },
     "execution_count": 26,
     "metadata": {},
     "output_type": "execute_result"
    }
   ],
   "source": [
    "import numpy as np\n",
    "\n",
    "# create a numpy array with random numbers\n",
    "x = np.random.rand(10)\n",
    "x.shape\n",
    "x.reshape((5,-1))"
   ]
  },
  {
   "cell_type": "code",
   "execution_count": 27,
   "id": "77844449",
   "metadata": {},
   "outputs": [
    {
     "data": {
      "text/plain": [
       "array([[0.927, 0.539],\n",
       "       [0.174, 0.456],\n",
       "       [0.639, 0.129],\n",
       "       [0.488, 0.701],\n",
       "       [0.217, 0.444]])"
      ]
     },
     "execution_count": 27,
     "metadata": {},
     "output_type": "execute_result"
    }
   ],
   "source": [
    "%precision 3\n",
    "x.reshape((5,-1))"
   ]
  },
  {
   "cell_type": "code",
   "execution_count": 28,
   "id": "c3777c14",
   "metadata": {},
   "outputs": [
    {
     "data": {
      "text/plain": [
       "(32561, 15)"
      ]
     },
     "execution_count": 28,
     "metadata": {},
     "output_type": "execute_result"
    }
   ],
   "source": [
    "import pandas as pd\n",
    "census_df = pd.read_csv(filepath_or_buffer='../dat/adult.csv', header = None)\n",
    "census_df.head()\n",
    "census_df.tail()\n",
    "census_df.shape"
   ]
  },
  {
   "cell_type": "markdown",
   "id": "d99563f1",
   "metadata": {},
   "source": [
    "### Uninstall packages"
   ]
  },
  {
   "cell_type": "code",
   "execution_count": 29,
   "id": "cd13cba4",
   "metadata": {},
   "outputs": [
    {
     "name": "stdout",
     "output_type": "stream",
     "text": [
      "Found existing installation: numpy 1.21.5\n",
      "Uninstalling numpy-1.21.5:\n",
      "  Successfully uninstalled numpy-1.21.5\n",
      "Found existing installation: pandas 1.4.2\n",
      "Uninstalling pandas-1.4.2:\n",
      "  Successfully uninstalled pandas-1.4.2\n",
      "Note: you may need to restart the kernel to use updated packages.\n"
     ]
    }
   ],
   "source": [
    "# Uninstall a package\n",
    "%pip uninstall numpy pandas --yes"
   ]
  },
  {
   "cell_type": "code",
   "execution_count": 30,
   "id": "3dba9166",
   "metadata": {},
   "outputs": [
    {
     "name": "stdout",
     "output_type": "stream",
     "text": [
      "Files removed: 164\n",
      "Note: you may need to restart the kernel to use updated packages.\n"
     ]
    }
   ],
   "source": [
    "%pip cache purge"
   ]
  }
 ],
 "metadata": {
  "kernelspec": {
   "display_name": "Python 3.9.12 ('base')",
   "language": "python",
   "name": "python3"
  },
  "language_info": {
   "codemirror_mode": {
    "name": "ipython",
    "version": 3
   },
   "file_extension": ".py",
   "mimetype": "text/x-python",
   "name": "python",
   "nbconvert_exporter": "python",
   "pygments_lexer": "ipython3",
   "version": "3.9.12"
  },
  "toc": {
   "base_numbering": 1,
   "nav_menu": {},
   "number_sections": true,
   "sideBar": true,
   "skip_h1_title": false,
   "title_cell": "Table of Contents",
   "title_sidebar": "Contents",
   "toc_cell": false,
   "toc_position": {},
   "toc_section_display": true,
   "toc_window_display": true
  },
  "vscode": {
   "interpreter": {
    "hash": "fb43e75cc39df9663d3511418be171397c05a917ff97f14fa5fe204a18142097"
   }
  }
 },
 "nbformat": 4,
 "nbformat_minor": 5
}
